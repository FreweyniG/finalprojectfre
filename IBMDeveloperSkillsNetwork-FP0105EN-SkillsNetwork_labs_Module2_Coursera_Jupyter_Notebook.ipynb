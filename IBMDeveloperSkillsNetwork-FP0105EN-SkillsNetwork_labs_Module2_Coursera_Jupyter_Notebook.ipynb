{
  "metadata": {
    "kernelspec": {
      "name": "python",
      "display_name": "Pyolite",
      "language": "python"
    },
    "language_info": {
      "codemirror_mode": {
        "name": "python",
        "version": 3
      },
      "file_extension": ".py",
      "mimetype": "text/x-python",
      "name": "python",
      "nbconvert_exporter": "python",
      "pygments_lexer": "ipython3",
      "version": "3.8"
    }
  },
  "nbformat_minor": 4,
  "nbformat": 4,
  "cells": [
    {
      "cell_type": "markdown",
      "source": "<center>\n    <img src=\"https://cf-courses-data.s3.us.cloud-object-storage.appdomain.cloud/IBMDeveloperSkillsNetwork-DS0105EN-SkillsNetwork/labs/Module2/images/SN_web_lightmode.png\" width=\"300\" alt=\"cognitiveclass.ai logo\">\n</center>\n",
      "metadata": {}
    },
    {
      "cell_type": "markdown",
      "source": "#### Add your code below following the instructions given in the course\n",
      "metadata": {}
    },
    {
      "cell_type": "markdown",
      "source": "# My Jupyter Notebook on IBM Watson Studio",
      "metadata": {}
    },
    {
      "cell_type": "markdown",
      "source": "**Freweyni Gebrehiwet**\n\nData analyst in commercial bank of Ethiopia",
      "metadata": {}
    },
    {
      "cell_type": "markdown",
      "source": "*I am interested in data science because i have a passion for using data to draw conclusions and the damand for data science is constantly growing.*",
      "metadata": {}
    },
    {
      "cell_type": "markdown",
      "source": " list data science languages\n1. Python\n2. SQL\n3. Rstudio\n4. Julia\n5. Scala, java ,c++ and others",
      "metadata": {}
    },
    {
      "cell_type": "markdown",
      "source": " list data science languages list of data science libraries\n1. TensorFlow\n2. NumPy\n3. SciPy \n4. Pandas\n5. Matplotlib \n6. Keras\n7. SciKit-Learn\n8. PyTorch",
      "metadata": {}
    },
    {
      "cell_type": "markdown",
      "source": "## Table of open source data science tools\n|Data managment|Data Integration & Transmission|Data visualization|Model Building|Model deployment|Model monitoring & Assessment|Code Asset Managment|Data asset Managment|Devolopment Environment|Execution Environment|\n|----|-----|----|----|----|----|----|----|----|----|\n|MySQL|Apache Airflow|Hue|Archi|PredictionIo|ModelDB|git|Apache Atlas|Jupyter Lab|Flink|\n|mangoDB|Kubeflow|Kibana|Orange|SELDON|Prometheus|Github|EGERIA|Rstudio|Apache spark|",
      "metadata": {}
    },
    {
      "cell_type": "markdown",
      "source": "## An arithmetic expression examples\n1. Addition(+) : example x+y\n2. Substraction(-): example x-y\n3. Multiplication(*): example x*y\n4. Division(/) : example x/y",
      "metadata": {}
    },
    {
      "cell_type": "code",
      "source": "4+4",
      "metadata": {
        "trusted": true
      },
      "execution_count": 2,
      "outputs": [
        {
          "execution_count": 2,
          "output_type": "execute_result",
          "data": {
            "text/plain": "8"
          },
          "metadata": {}
        }
      ]
    },
    {
      "cell_type": "code",
      "source": "4*4",
      "metadata": {
        "trusted": true
      },
      "execution_count": 3,
      "outputs": [
        {
          "execution_count": 3,
          "output_type": "execute_result",
          "data": {
            "text/plain": "16"
          },
          "metadata": {}
        }
      ]
    },
    {
      "cell_type": "code",
      "source": "num1=6\nnum2=5\nprint(num1+num2)",
      "metadata": {
        "trusted": true
      },
      "execution_count": 4,
      "outputs": [
        {
          "name": "stdout",
          "text": "11\n",
          "output_type": "stream"
        }
      ]
    },
    {
      "cell_type": "code",
      "source": "num1=6\nnum2=8\nprint(num1*num2)",
      "metadata": {
        "trusted": true
      },
      "execution_count": 5,
      "outputs": [
        {
          "name": "stdout",
          "text": "48\n",
          "output_type": "stream"
        }
      ]
    },
    {
      "cell_type": "code",
      "source": " \nimport time\n \ndef convert(minutes):\n    return time.strftime(\"%H:%M:%S\", time.gmtime(n))\n     \n# Driver program\nn = 180\nprint(convert(n))",
      "metadata": {
        "trusted": true
      },
      "execution_count": 9,
      "outputs": [
        {
          "name": "stdout",
          "text": "00:03:00\n",
          "output_type": "stream"
        }
      ]
    },
    {
      "cell_type": "markdown",
      "source": "list Objectives\n1. Data Visualization and Sharing\n2. Teaching Data Science Skills\n3.  Data Organization and Cleaning\n4. Collaborating Across Projects and Tools",
      "metadata": {}
    },
    {
      "cell_type": "markdown",
      "source": "Author’s name\n\n**Freweyni Gebrehiwet**",
      "metadata": {}
    },
    {
      "cell_type": "code",
      "source": "",
      "metadata": {},
      "execution_count": null,
      "outputs": []
    }
  ]
}